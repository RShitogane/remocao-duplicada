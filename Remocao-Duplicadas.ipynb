{
 "cells": [
  {
   "cell_type": "code",
   "execution_count": 5,
   "metadata": {},
   "outputs": [
    {
     "name": "stdout",
     "output_type": "stream",
     "text": [
      "Lista Original:\n",
      "12 1 11 1 11 1 \n",
      "\n",
      "Lista após remoção de duplicatas:\n",
      "12 1 11 \n"
     ]
    }
   ],
   "source": [
    "class Node:\n",
    "    def __init__(self, data=None):\n",
    "        self.data = data\n",
    "        self.next_node = None\n",
    "\n",
    "class LinkedList:\n",
    "    def __init__(self):\n",
    "        self.head = None\n",
    "\n",
    "    def inserir(self, data):\n",
    "        new_node = Node(data)\n",
    "        new_node.next_node = self.head\n",
    "        self.head = new_node\n",
    "\n",
    "    def exibir_lista(self):\n",
    "        current = self.head\n",
    "        while current:\n",
    "            print(current.data, end=\" \")\n",
    "            current = current.next_node\n",
    "        print()\n",
    "\n",
    "    def remover_duplicatas(self):\n",
    "        if not self.head or not self.head.next_node:\n",
    "            print(\"A lista está vazia ou contém apenas um elemento. Não há duplicatas para remover.\")\n",
    "            return\n",
    "\n",
    "        seen = set()\n",
    "        current = self.head\n",
    "        previous = None\n",
    "\n",
    "        while current:\n",
    "            if current.data in seen:\n",
    "                # Remover nó duplicado\n",
    "                previous.next_node = current.next_node\n",
    "            else:\n",
    "                seen.add(current.data)\n",
    "                previous = current\n",
    "            current = current.next_node\n",
    "\n",
    "\n",
    "lista = LinkedList()\n",
    "\n",
    "\n",
    "lista.inserir(1)\n",
    "lista.inserir(11)\n",
    "lista.inserir(1)\n",
    "lista.inserir(11)\n",
    "lista.inserir(1)\n",
    "lista.inserir(12)\n",
    "\n",
    "lista_vazia = LinkedList()\n",
    "\n",
    "print(\"Lista Original:\")\n",
    "lista.exibir_lista()\n",
    "\n",
    "lista.remover_duplicatas()\n",
    "\n",
    "print(\"\\nLista após remoção de duplicatas:\")\n",
    "lista.exibir_lista()\n"
   ]
  }
 ],
 "metadata": {
  "kernelspec": {
   "display_name": "Python 3",
   "language": "python",
   "name": "python3"
  },
  "language_info": {
   "codemirror_mode": {
    "name": "ipython",
    "version": 3
   },
   "file_extension": ".py",
   "mimetype": "text/x-python",
   "name": "python",
   "nbconvert_exporter": "python",
   "pygments_lexer": "ipython3",
   "version": "3.12.1"
  }
 },
 "nbformat": 4,
 "nbformat_minor": 2
}
